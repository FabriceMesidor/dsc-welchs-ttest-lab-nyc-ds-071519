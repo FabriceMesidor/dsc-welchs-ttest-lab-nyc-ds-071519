{
 "cells": [
  {
   "cell_type": "code",
   "execution_count": 1,
   "metadata": {},
   "outputs": [],
   "source": [
    "from bs4 import BeautifulSoup\n",
    "import requests\n",
    "html_page = requests.get('https://newyork.craigslist.org/search/aap')\n",
    "soup = BeautifulSoup(html_page.content, 'html.parser')\n",
    "results = soup.findAll('p', class_='result-info')\n",
    "apartments = []\n",
    "for result in results:\n",
    "    apartment = {}\n",
    "    apartment['title'] = result.find('a').text\n",
    "    apartment['price'] = result.find('span', class_ = 'result-price').text\n",
    "    try:\n",
    "        apartment['neighborhood'] = result.find('span', class_= 'result-hood').text.replace(' ', '').replace('(',\"\").replace(\")\", '')\n",
    "    except AttributeError:\n",
    "        apartment['neighborhood']=None\n",
    "    apartments.append(apartment)"
   ]
  },
  {
   "cell_type": "code",
   "execution_count": 16,
   "metadata": {},
   "outputs": [
    {
     "name": "stdout",
     "output_type": "stream",
     "text": [
      "<class 'pandas.core.frame.DataFrame'>\n",
      "RangeIndex: 120 entries, 0 to 119\n",
      "Data columns (total 3 columns):\n",
      "title           120 non-null object\n",
      "price           120 non-null object\n",
      "neighborhood    113 non-null object\n",
      "dtypes: object(3)\n",
      "memory usage: 2.9+ KB\n"
     ]
    }
   ],
   "source": [
    "import pandas as pd\n",
    "df = pd.DataFrame(apartments)\n",
    "df\n",
    "df.info()"
   ]
  },
  {
   "cell_type": "code",
   "execution_count": null,
   "metadata": {},
   "outputs": [],
   "source": []
  }
 ],
 "metadata": {
  "kernelspec": {
   "display_name": "Python 3",
   "language": "python",
   "name": "python3"
  },
  "language_info": {
   "codemirror_mode": {
    "name": "ipython",
    "version": 3
   },
   "file_extension": ".py",
   "mimetype": "text/x-python",
   "name": "python",
   "nbconvert_exporter": "python",
   "pygments_lexer": "ipython3",
   "version": "3.7.3"
  }
 },
 "nbformat": 4,
 "nbformat_minor": 2
}
